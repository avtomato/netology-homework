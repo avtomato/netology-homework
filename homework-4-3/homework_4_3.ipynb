{
 "cells": [
  {
   "cell_type": "code",
   "execution_count": 1,
   "metadata": {
    "collapsed": true
   },
   "outputs": [],
   "source": [
    "import requests\n",
    "import pandas as pd\n",
    "import matplotlib.pyplot as plt\n",
    "from scipy.cluster.vq import whiten, kmeans2\n",
    "\n",
    "%matplotlib inline"
   ]
  },
  {
   "cell_type": "code",
   "execution_count": 2,
   "metadata": {
    "collapsed": true
   },
   "outputs": [],
   "source": [
    "URL = 'http://api.football-data.org/v1/soccerseasons/439/teams'\n",
    "TOKEN = 'c52b7825851b4357af3e06c1888152f0' # Ваш api token"
   ]
  },
  {
   "cell_type": "code",
   "execution_count": 3,
   "metadata": {
    "collapsed": true
   },
   "outputs": [],
   "source": [
    "# Функция для получения данных.\n",
    "\n",
    "params = {'X-Auth-Token': TOKEN}\n",
    "\n",
    "def get_data(url, result_key):\n",
    "    try:\n",
    "        data = requests.get(url, params=params).json()\n",
    "        return data[result_key]\n",
    "    except:\n",
    "        print('Ошибка при открытии страницы: ')"
   ]
  },
  {
   "cell_type": "code",
   "execution_count": 4,
   "metadata": {
    "collapsed": true
   },
   "outputs": [],
   "source": [
    "# Получаем список команд\n",
    "teams = get_data(URL, 'teams')"
   ]
  },
  {
   "cell_type": "code",
   "execution_count": 5,
   "metadata": {
    "collapsed": false
   },
   "outputs": [
    {
     "name": "stdout",
     "output_type": "stream",
     "text": [
      "Team: \"FC Rio Ave\", Сost team: 26,775,000 €, Losses: 12\n",
      "Team: \"FC Porto\", Сost team: 179,750,000 €, Losses: 4\n",
      "Team: \"Moreirense FC\", Сost team: 13,900,000 €, Losses: 17\n",
      "Team: \"FC Paços de Ferreira\", Сost team: 20,400,000 €, Losses: 12\n",
      "Team: \"Sporting CP\", Сost team: 168,750,000 €, Losses: 9\n",
      "Team: \"Maritimo Funchal\", Сost team: 20,300,000 €, Losses: 9\n",
      "Team: \"CD Tondela\", Сost team: 10,175,000 €, Losses: 17\n",
      "Team: \"SL Benfica\", Сost team: 202,850,000 €, Losses: 5\n",
      "Team: \"Boavista Porto FC\", Сost team: 18,625,000 €, Losses: 11\n",
      "Team: \"FC Arouca\", Сost team: 17,850,000 €, Losses: 17\n",
      "Team: \"Vitoria Setubal\", Сost team: 19,775,000 €, Losses: 13\n",
      "Team: \"C.F. Os Belenenses\", Сost team: 16,700,000 €, Losses: 14\n",
      "Team: \"Vitoria Guimaraes\", Сost team: 34,000,000 €, Losses: 6\n",
      "Team: \"Sporting Braga\", Сost team: 47,600,000 €, Losses: 7\n",
      "Team: \"GD Estoril Praia\", Сost team: 18,350,000 €, Losses: 15\n",
      "Team: \"Feirense\", Сost team: None, Losses: 14\n",
      "Team: \"Nacional Funchal\", Сost team: 17,500,000 €, Losses: 18\n",
      "Team: \"G.D. Chaves\", Сost team: None, Losses: 9\n"
     ]
    }
   ],
   "source": [
    "# Для каждой команды получем её стоимость и количество поражений.\n",
    "# Собираем полученные данные для создания датафрейма.\n",
    "team_for_pd = list()\n",
    "for team in teams:\n",
    "    cost = int(''.join(team['squadMarketValue'].split(' ')[0].split(','))) if team['squadMarketValue'] is not None else 0\n",
    "    matches = get_data(team['_links']['fixtures']['href'], 'fixtures')\n",
    "    losses = 0\n",
    "    for match in matches:\n",
    "        goals_home = match['result']['goalsHomeTeam'] if match['result']['goalsHomeTeam'] else 0\n",
    "        goals_away = match['result']['goalsAwayTeam'] if match['result']['goalsAwayTeam'] else 0\n",
    "        if team['name'] == match['homeTeamName']:\n",
    "            losses += 1 if goals_home < goals_away else 0\n",
    "        else:\n",
    "            losses += 1 if goals_away < goals_home else 0\n",
    "    print('Team: \"{}\", Сost team: {}, Losses: {}'. format(team['name'], team['squadMarketValue'], losses))\n",
    "    \n",
    "    team_for_pd.append({'name': team['name'],'cost': cost, 'losses': losses})"
   ]
  },
  {
   "cell_type": "code",
   "execution_count": 6,
   "metadata": {
    "collapsed": true
   },
   "outputs": [],
   "source": [
    "# Создаем датафрейм.\n",
    "df = pd.DataFrame(team_for_pd)"
   ]
  },
  {
   "cell_type": "code",
   "execution_count": 7,
   "metadata": {
    "collapsed": false
   },
   "outputs": [
    {
     "data": {
      "text/plain": [
       "<matplotlib.axes._subplots.AxesSubplot at 0x4a1dfd0>"
      ]
     },
     "execution_count": 7,
     "metadata": {},
     "output_type": "execute_result"
    },
    {
     "data": {
      "image/png": "[encoded data removed]",
      "text/plain": [
       "<matplotlib.figure.Figure at 0x4a1d358>"
      ]
     },
     "metadata": {},
     "output_type": "display_data"
    }
   ],
   "source": [
    "# Выводим на диаграмму.\n",
    "df.plot.scatter(x='losses', y='cost', edgecolor='none', s=40)"
   ]
  },
  {
   "cell_type": "code",
   "execution_count": 8,
   "metadata": {
    "collapsed": true
   },
   "outputs": [],
   "source": [
    "# удаляем колонку с названиями команд.\n",
    "del df['name']"
   ]
  },
  {
   "cell_type": "code",
   "execution_count": 9,
   "metadata": {
    "collapsed": false
   },
   "outputs": [
    {
     "data": {
      "text/plain": [
       "array([[ 0.42752785,  2.80993812],\n",
       "       [ 2.87014497,  0.93664604],\n",
       "       [ 0.22194723,  3.98074567],\n",
       "       [ 0.32573551,  2.80993812],\n",
       "       [ 2.69450327,  2.10745359],\n",
       "       [ 0.32413876,  2.10745359],\n",
       "       [ 0.16246857,  3.98074567],\n",
       "       [ 3.23899253,  1.17080755],\n",
       "       [ 0.29739332,  2.57577661],\n",
       "       [ 0.28501857,  3.98074567],\n",
       "       [ 0.31575587,  3.04409963],\n",
       "       [ 0.26665603,  3.27826114],\n",
       "       [ 0.54289251,  1.40496906],\n",
       "       [ 0.76004952,  1.63913057],\n",
       "       [ 0.29300228,  3.51242265],\n",
       "       [ 0.        ,  3.27826114],\n",
       "       [ 0.27942997,  4.21490718],\n",
       "       [ 0.        ,  2.10745359]])"
      ]
     },
     "execution_count": 9,
     "metadata": {},
     "output_type": "execute_result"
    }
   ],
   "source": [
    "# Нормализация данных.\n",
    "whitened = whiten(df.as_matrix())\n",
    "whitened"
   ]
  },
  {
   "cell_type": "code",
   "execution_count": 10,
   "metadata": {
    "collapsed": false
   },
   "outputs": [
    {
     "data": {
      "text/plain": [
       "(array([[ 2.93454692,  1.40496906],\n",
       "        [ 0.22803481,  3.65877359],\n",
       "        [ 0.38253393,  2.20780852]]),\n",
       " array([2, 0, 1, 2, 0, 2, 1, 0, 2, 1, 1, 1, 2, 2, 1, 1, 1, 2]))"
      ]
     },
     "execution_count": 10,
     "metadata": {},
     "output_type": "execute_result"
    }
   ],
   "source": [
    "# Создаем 3 кластера.\n",
    "centroids, cluster_map = kmeans2(whitened, 3)\n",
    "centroids, cluster_map"
   ]
  },
  {
   "cell_type": "code",
   "execution_count": 11,
   "metadata": {
    "collapsed": true
   },
   "outputs": [],
   "source": [
    "# Определяем цвет для каждого кластера.\n",
    "colors_map = {0: 'r', 1: 'g', 2: 'b', 3: 'y', 4: 'm'}\n",
    "colors = [colors_map[c] for c in cluster_map]"
   ]
  },
  {
   "cell_type": "code",
   "execution_count": 12,
   "metadata": {
    "collapsed": false
   },
   "outputs": [
    {
     "data": {
      "text/plain": [
       "<matplotlib.axes._subplots.AxesSubplot at 0x9d1e588>"
      ]
     },
     "execution_count": 12,
     "metadata": {},
     "output_type": "execute_result"
    },
    {
     "data": {
      "image/png": "[encoded data removed]",
      "text/plain": [
       "<matplotlib.figure.Figure at 0xa3e9358>"
      ]
     },
     "metadata": {},
     "output_type": "display_data"
    }
   ],
   "source": [
    "# Выводим на диаграмму.\n",
    "df.plot.scatter(x='losses', y='cost', c=colors, edgecolor='none', s=40)"
   ]
  },
  {
   "cell_type": "code",
   "execution_count": 18,
   "metadata": {
    "collapsed": false
   },
   "outputs": [
    {
     "data": {
      "text/plain": [
       "(array([[ 0.27515298,  3.04409963],\n",
       "        [ 0.23721608,  4.03928605],\n",
       "        [ 3.05456875,  1.0537268 ],\n",
       "        [ 2.69450327,  2.10745359],\n",
       "        [ 0.4067702 ,  1.8147517 ]]),\n",
       " array([0, 2, 1, 0, 3, 4, 1, 2, 0, 1, 0, 0, 4, 4, 0, 0, 1, 4]))"
      ]
     },
     "execution_count": 18,
     "metadata": {},
     "output_type": "execute_result"
    }
   ],
   "source": [
    "# Создаем 5 кластеров.\n",
    "centroids, cluster_map = kmeans2(whitened, 5)\n",
    "centroids, cluster_map"
   ]
  },
  {
   "cell_type": "code",
   "execution_count": 19,
   "metadata": {
    "collapsed": true
   },
   "outputs": [],
   "source": [
    "# Определяем цвет для каждого кластера.\n",
    "colors_map = {0: 'r', 1: 'g', 2: 'b', 3: 'y', 4: 'm'}\n",
    "colors = [colors_map[c] for c in cluster_map]"
   ]
  },
  {
   "cell_type": "code",
   "execution_count": 20,
   "metadata": {
    "collapsed": false
   },
   "outputs": [
    {
     "data": {
      "text/plain": [
       "<matplotlib.axes._subplots.AxesSubplot at 0x8cc75c0>"
      ]
     },
     "execution_count": 20,
     "metadata": {},
     "output_type": "execute_result"
    },
    {
     "data": {
      "image/png": "[encoded data removed]",
      "text/plain": [
       "<matplotlib.figure.Figure at 0x791aa20>"
      ]
     },
     "metadata": {},
     "output_type": "display_data"
    }
   ],
   "source": [
    "# Выводим на диаграмму.\n",
    "df.plot.scatter(x='losses', y='cost', c=colors, edgecolor='none', s=40)"
   ]
  },
  {
   "cell_type": "code",
   "execution_count": null,
   "metadata": {
    "collapsed": true
   },
   "outputs": [],
   "source": []
  }
 ],
 "metadata": {
  "kernelspec": {
   "display_name": "Python [conda root]",
   "language": "python",
   "name": "conda-root-py"
  },
  "language_info": {
   "codemirror_mode": {
    "name": "ipython",
    "version": 3
   },
   "file_extension": ".py",
   "mimetype": "text/x-python",
   "name": "python",
   "nbconvert_exporter": "python",
   "pygments_lexer": "ipython3",
   "version": "3.5.2"
  }
 },
 "nbformat": 4,
 "nbformat_minor": 1
}
