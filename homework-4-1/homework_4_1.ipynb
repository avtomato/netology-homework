{
 "cells": [
  {
   "cell_type": "code",
   "execution_count": 1,
   "metadata": {
    "collapsed": true
   },
   "outputs": [],
   "source": [
    "import pandas as pd"
   ]
  },
  {
   "cell_type": "code",
   "execution_count": 2,
   "metadata": {
    "collapsed": true
   },
   "outputs": [],
   "source": [
    "# task 1"
   ]
  },
  {
   "cell_type": "code",
   "execution_count": 3,
   "metadata": {
    "collapsed": true
   },
   "outputs": [],
   "source": [
    "def count_top3(args):\n",
    "    cols = ['Name', 'Gender', 'Count']\n",
    "    df = pd.read_csv('names/yob{}.txt'.format(args[0]), names=cols)\n",
    "    df['Total'] = df['Count'] \n",
    "    \n",
    "    n = 0\n",
    "    m = 1\n",
    "\n",
    "    for index, i in enumerate(args[1:], start=1):\n",
    "        if i in args[2::2]:\n",
    "            df_i = pd.read_csv('names/yob{}.txt'.format(i), names=cols)\n",
    "            suff = [n, index]\n",
    "            temp = pd.merge(df, df_i, on=['Name', 'Gender'], suffixes=suff)\n",
    "            df = temp\n",
    "            n += 1\n",
    "            df['Total'] += df['Count']\n",
    "\n",
    "        else:\n",
    "            df_i = pd.read_csv('names/yob{}.txt'.format(i), names=cols)\n",
    "            suff = [n, index]\n",
    "            temp = pd.merge(df, df_i, on=['Name', 'Gender'], suffixes=suff)\n",
    "            df = temp\n",
    "            df['Total'] += df['Count{}'.format(m)]\n",
    "            n += 1\n",
    "            m += 2\n",
    "            \n",
    "    df = df.sort_values(by='Total', ascending=False)\n",
    "\n",
    "    return df.head(3)"
   ]
  },
  {
   "cell_type": "code",
   "execution_count": 4,
   "metadata": {
    "collapsed": false
   },
   "outputs": [
    {
     "data": {
      "text/html": [
       "<div>\n",
       "<table border=\"1\" class=\"dataframe\">\n",
       "  <thead>\n",
       "    <tr style=\"text-align: right;\">\n",
       "      <th></th>\n",
       "      <th>Name</th>\n",
       "      <th>Gender</th>\n",
       "      <th>Count0</th>\n",
       "      <th>Total</th>\n",
       "      <th>Count1</th>\n",
       "      <th>Count</th>\n",
       "    </tr>\n",
       "  </thead>\n",
       "  <tbody>\n",
       "    <tr>\n",
       "      <th>1147</th>\n",
       "      <td>James</td>\n",
       "      <td>M</td>\n",
       "      <td>7245</td>\n",
       "      <td>111489</td>\n",
       "      <td>86266</td>\n",
       "      <td>17978</td>\n",
       "    </tr>\n",
       "    <tr>\n",
       "      <th>1145</th>\n",
       "      <td>John</td>\n",
       "      <td>M</td>\n",
       "      <td>9829</td>\n",
       "      <td>109360</td>\n",
       "      <td>79447</td>\n",
       "      <td>20084</td>\n",
       "    </tr>\n",
       "    <tr>\n",
       "      <th>1150</th>\n",
       "      <td>Robert</td>\n",
       "      <td>M</td>\n",
       "      <td>3821</td>\n",
       "      <td>101145</td>\n",
       "      <td>83590</td>\n",
       "      <td>13734</td>\n",
       "    </tr>\n",
       "  </tbody>\n",
       "</table>\n",
       "</div>"
      ],
      "text/plain": [
       "        Name Gender  Count0   Total  Count1  Count\n",
       "1147   James      M    7245  111489   86266  17978\n",
       "1145    John      M    9829  109360   79447  20084\n",
       "1150  Robert      M    3821  101145   83590  13734"
      ]
     },
     "execution_count": 4,
     "metadata": {},
     "output_type": "execute_result"
    }
   ],
   "source": [
    "count_top3([1900, 1950, 2000])"
   ]
  },
  {
   "cell_type": "code",
   "execution_count": 5,
   "metadata": {
    "collapsed": true
   },
   "outputs": [],
   "source": [
    "# task 2"
   ]
  },
  {
   "cell_type": "code",
   "execution_count": 6,
   "metadata": {
    "collapsed": true
   },
   "outputs": [],
   "source": [
    "def count_dynamics(args):\n",
    "    cols = ['Name', 'Gender', 'Count']\n",
    "    total = {'F': [], 'M': []}\n",
    "    for i in args:\n",
    "        df = pd.read_csv('names/yob{}.txt'.format(i), names=cols)\n",
    "        df_f = df.query('Gender == \"F\"')\n",
    "        df_m = df.query('Gender == \"M\"')\n",
    "        total['F'].append(df_f['Count'].sum())  \n",
    "        total['M'].append(df_m['Count'].sum())\n",
    "    \n",
    "    return total"
   ]
  },
  {
   "cell_type": "code",
   "execution_count": 7,
   "metadata": {
    "collapsed": false
   },
   "outputs": [
    {
     "data": {
      "text/plain": [
       "{'F': [299822, 1713450, 1814738], 'M': [150490, 1791474, 1962556]}"
      ]
     },
     "execution_count": 7,
     "metadata": {},
     "output_type": "execute_result"
    }
   ],
   "source": [
    "count_dynamics([1900, 1950, 2000])"
   ]
  },
  {
   "cell_type": "code",
   "execution_count": null,
   "metadata": {
    "collapsed": true
   },
   "outputs": [],
   "source": []
  }
 ],
 "metadata": {
  "anaconda-cloud": {},
  "kernelspec": {
   "display_name": "Python [conda root]",
   "language": "python",
   "name": "conda-root-py"
  },
  "language_info": {
   "codemirror_mode": {
    "name": "ipython",
    "version": 3
   },
   "file_extension": ".py",
   "mimetype": "text/x-python",
   "name": "python",
   "nbconvert_exporter": "python",
   "pygments_lexer": "ipython3",
   "version": "3.5.2"
  }
 },
 "nbformat": 4,
 "nbformat_minor": 1
}
